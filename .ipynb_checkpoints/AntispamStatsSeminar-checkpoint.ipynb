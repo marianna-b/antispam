{
 "cells": [
  {
   "cell_type": "markdown",
   "metadata": {
    "deletable": true,
    "editable": true
   },
   "source": [
    "# ** Описание **"
   ]
  },
  {
   "cell_type": "raw",
   "metadata": {
    "deletable": true,
    "editable": true
   },
   "source": [
    "Построить графики распределения в спам и не спам множествах следующих признаков:\n",
    "\n",
    "1\tКоличество слов на странице\n",
    "2\tСредняя длинна слова\n",
    "3\tКоличество слов в заголовке страниц (слова в теге <html><head><title> Some text </title>)\n",
    "4\tКоличество слов в анкорах ссылок (<html><body><a> Some text </a>)\n",
    "5\tКоэффициент сжатия\n",
    "\n",
    "Нужно посчитать статистику минимум по трем признакам и обязательно сделать для 1-го и 2-го признаков\n",
    "\n",
    "И отправить первое решение в соревнование https://kaggle.com/join/antispam_infopoisk\n",
    "На основании одного из указанных выше признаков попытаться разделить мн-во, так чтобы score в соревновании был больше 0.55\n",
    "\n",
    "При выполнении всех этих условия в течении семинара +1 балл к ДЗ\n",
    "\n",
    "Описание ДЗ и правил выставления за него баллов в https://inclass.kaggle.com/c/antispam-infopoisk  \n",
    "Срок для ИТМО - 1 неделя  \n",
    "Срок для Техносферы - 3 недели  "
   ]
  },
  {
   "cell_type": "code",
   "execution_count": 1,
   "metadata": {
    "collapsed": false,
    "deletable": true,
    "editable": true
   },
   "outputs": [],
   "source": [
    "from __future__ import division\n",
    "\n",
    "import base64\n",
    "import csv\n",
    "import gzip\n",
    "import zlib\n",
    "\n",
    "from collections import namedtuple\n",
    "\n",
    "%matplotlib inline\n",
    "import matplotlib.pyplot as plt"
   ]
  },
  {
   "cell_type": "code",
   "execution_count": 2,
   "metadata": {
    "collapsed": false,
    "deletable": true,
    "editable": true
   },
   "outputs": [],
   "source": [
    "TRACE_NUM = 1000\n",
    "import logging\n",
    "reload(logging)\n",
    "logging.basicConfig(format='%(asctime)s %(levelname)s:%(message)s', level=logging.INFO, datefmt='%H:%M:%S')\n",
    "\n",
    "def trace(items_num, trace_num=TRACE_NUM):\n",
    "    if items_num % trace_num == 0: logging.info(\"Complete items %05d\" % items_num)"
   ]
  },
  {
   "cell_type": "markdown",
   "metadata": {
    "deletable": true,
    "editable": true
   },
   "source": [
    "### Утилиты"
   ]
  },
  {
   "cell_type": "markdown",
   "metadata": {
    "deletable": true,
    "editable": true
   },
   "source": [
    "#### Декораторы"
   ]
  },
  {
   "cell_type": "code",
   "execution_count": 3,
   "metadata": {
    "collapsed": true,
    "deletable": true,
    "editable": true
   },
   "outputs": [],
   "source": [
    "def to_utf8(text):\n",
    "    if isinstance(text, unicode): text = text.encode('utf8')\n",
    "    return text\n",
    "\n",
    "def convert2unicode(f):\n",
    "    def tmp(text):\n",
    "        if not isinstance(text, unicode): text = text.decode('utf8')\n",
    "        return f(text)\n",
    "    return tmp\n",
    "\n",
    "def convert2lower(f):\n",
    "    def tmp(text):        \n",
    "        return f(text.lower())\n",
    "    return tmp\n",
    "\n",
    "#P.S. Декораторы могут усложнять отладку, так что от них вполне можно отказаться и воспользоваться copy-paste"
   ]
  },
  {
   "cell_type": "markdown",
   "metadata": {
    "deletable": true,
    "editable": true
   },
   "source": [
    "### Извлечение текста из html"
   ]
  },
  {
   "cell_type": "markdown",
   "metadata": {
    "deletable": true,
    "editable": true
   },
   "source": [
    "#### Извлечение текста при помощи встроенных модулей"
   ]
  },
  {
   "cell_type": "code",
   "execution_count": 4,
   "metadata": {
    "collapsed": false,
    "deletable": true,
    "editable": true
   },
   "outputs": [],
   "source": [
    "from HTMLParser import HTMLParser\n",
    "import re\n",
    "\n",
    "###Извлечение текста из title можно вписать сюда\n",
    "\n",
    "class TextHTMLParser(HTMLParser):\n",
    "    def __init__(self):\n",
    "        HTMLParser.__init__(self)\n",
    "        self._text = []\n",
    "        self._title = \"\"\n",
    "        self._in_title = False\n",
    "\n",
    "    def handle_data(self, data):\n",
    "        text = data.strip()\n",
    "        if len(text) > 0:\n",
    "            text = re.sub('[ \\t\\r\\n]+', ' ', text)\n",
    "            self._text.append(text + ' ')\n",
    "\n",
    "    def handle_starttag(self, tag, attrs):\n",
    "        if tag == 'p':\n",
    "            self._text.append('\\n\\n')\n",
    "        elif tag == 'br':\n",
    "            self._text.append('\\n')\n",
    "        elif tag == 'title':\n",
    "            self._in_title = True\n",
    "\n",
    "    def handle_startendtag(self, tag, attrs):\n",
    "        if tag == 'br':\n",
    "            self._text.append('\\n\\n')\n",
    "\n",
    "    def text(self):\n",
    "        return ''.join(self._text).strip()\n",
    "\n",
    "@convert2unicode\n",
    "def html2text_parser(text):\n",
    "    parser = TextHTMLParser()\n",
    "    parser.feed(text)\n",
    "    return parser.text()"
   ]
  },
  {
   "cell_type": "markdown",
   "metadata": {
    "deletable": true,
    "editable": true
   },
   "source": [
    "#### Извлечение текста при помощи дополнительных библиотек"
   ]
  },
  {
   "cell_type": "code",
   "execution_count": 5,
   "metadata": {
    "collapsed": true,
    "deletable": true,
    "editable": true
   },
   "outputs": [],
   "source": [
    "def html2text_bs(raw_html):\n",
    "    from bs4 import BeautifulSoup\n",
    "    \"\"\"\n",
    "    Тут производится извлечения из html текста\n",
    "    \"\"\"\n",
    "    soup = BeautifulSoup(raw_html, \"html.parser\")\n",
    "    [s.extract() for s in soup(['script', 'style'])]\n",
    "    return soup.get_text()\n",
    "\n",
    "def html2text_bs_visible(raw_html):\n",
    "    from bs4 import BeautifulSoup\n",
    "    \"\"\"\n",
    "    Тут производится извлечения из html текста, который видим пользователю\n",
    "    \"\"\"\n",
    "    soup = BeautifulSoup(raw_html, \"html.parser\")    \n",
    "    [s.extract() for s in soup(['style', 'script', '[document]', 'head', 'title'])]\n",
    "    return soup.get_text()\n",
    "\n",
    "def html2text_boilerpipe(raw_html):\n",
    "    import boilerpipe\n",
    "    \"\"\"\n",
    "    еще одна библиотека очень хорошо извлекающая именно видимый пользователю текст,\n",
    "    но она завязана на java\n",
    "    \"\"\"\n",
    "    pass"
   ]
  },
  {
   "cell_type": "markdown",
   "metadata": {
    "deletable": true,
    "editable": true
   },
   "source": [
    "#### Выбираем какой метод для конвертации html в текст будет основным"
   ]
  },
  {
   "cell_type": "code",
   "execution_count": 6,
   "metadata": {
    "collapsed": false,
    "deletable": true,
    "editable": true
   },
   "outputs": [],
   "source": [
    "#html2text = html2text_bs\n",
    "html2text = html2text_parser"
   ]
  },
  {
   "cell_type": "markdown",
   "metadata": {
    "deletable": true,
    "editable": true
   },
   "source": [
    "#### Методы для токенизации текста"
   ]
  },
  {
   "cell_type": "code",
   "execution_count": 7,
   "metadata": {
    "collapsed": true,
    "deletable": true,
    "editable": true
   },
   "outputs": [],
   "source": [
    "@convert2lower\n",
    "@convert2unicode\n",
    "def easy_tokenizer(text):\n",
    "    word = unicode()\n",
    "    for symbol in text:\n",
    "        if symbol.isalnum(): word += symbol\n",
    "        elif word:\n",
    "            yield word\n",
    "            word = unicode()\n",
    "    if word: yield word\n",
    "\n",
    "PYMORPHY_CACHE = {}\n",
    "MORPH = None\n",
    "#hint, чтобы установка pymorphy2 не была бы обязательной\n",
    "def get_lemmatizer():\n",
    "    import pymorphy2\n",
    "    global MORPH\n",
    "    if MORPH is None: MORPH = pymorphy2.MorphAnalyzer()\n",
    "    return MORPH\n",
    "\n",
    "@convert2lower\n",
    "@convert2unicode\n",
    "def pymorphy_tokenizer(text):\n",
    "    global PYMORPHY_CACHE\n",
    "    for word in easy_tokenizer(text):\n",
    "        word_hash = hash(word)\n",
    "        if word_hash not in PYMORPHY_CACHE:\n",
    "            PYMORPHY_CACHE[word_hash] = get_lemmatizer().parse(word)[0].normal_form            \n",
    "        yield PYMORPHY_CACHE[word_hash]"
   ]
  },
  {
   "cell_type": "markdown",
   "metadata": {
    "deletable": true,
    "editable": true
   },
   "source": [
    "#### Основная функция, которая вызывается для преобразования html в список слов"
   ]
  },
  {
   "cell_type": "code",
   "execution_count": 8,
   "metadata": {
    "collapsed": false,
    "deletable": true,
    "editable": true
   },
   "outputs": [],
   "source": [
    "def html2word(raw_html, to_text=html2text, tokenizer=easy_tokenizer):\n",
    "    return tokenizer(to_text(raw_html).lower())"
   ]
  },
  {
   "cell_type": "markdown",
   "metadata": {
    "deletable": true,
    "editable": true
   },
   "source": [
    "#### Рассчет финальных метрик"
   ]
  },
  {
   "cell_type": "code",
   "execution_count": 9,
   "metadata": {
    "collapsed": true,
    "deletable": true,
    "editable": true
   },
   "outputs": [],
   "source": [
    "def safe_divide(a, b):\n",
    "    if a == 0: return 0.0\n",
    "    elif b == 0: return 0.0\n",
    "    else: return a/b\n",
    "\n",
    "def calculate_metrics(predictions, threshold):    \n",
    "    \"\"\"\n",
    "    Функция подсчета метрик\n",
    "    Параметры\n",
    "    predictions - ранки по документам\n",
    "    threshold  - порог для метрик\n",
    "    \"\"\"\n",
    "    true_positive = 0\n",
    "    false_positive = 0\n",
    "    true_negative = 0\n",
    "    false_negative = 0\n",
    "    for (url_id, mark, url, prediction) in predictions:        \n",
    "        mark_predict = prediction > threshold\n",
    "\n",
    "        if mark_predict:                     \n",
    "            if mark_predict == mark: true_positive += 1\n",
    "            else: false_positive += 1                    \n",
    "        else:                     \n",
    "            if  mark_predict == mark: true_negative += 1\n",
    "            else: false_negative += 1\n",
    "\n",
    "    class_prec  = safe_divide(true_positive, true_positive + false_positive)\n",
    "    class_recall = safe_divide(true_positive, true_positive + false_negative)\n",
    "        \n",
    "    class_F1 = safe_divide(2 * class_prec * class_recall, class_prec + class_recall)\n",
    "    \n",
    "    \n",
    "    not_class_prec = safe_divide(true_negative, true_negative + false_negative)\n",
    "    not_class_recall = safe_divide(true_negative, true_negative + false_positive)\n",
    "    \n",
    "    not_class_F1 = safe_divide(2 * not_class_prec * not_class_recall, not_class_prec + not_class_recall)\n",
    "    \n",
    "    return ( (class_prec, class_recall, class_F1), (not_class_prec, not_class_recall, not_class_F1) )\n",
    "\n",
    "def arange(start, stop, step):\n",
    "    cur_value = start\n",
    "    while True:\n",
    "        if cur_value > stop: break\n",
    "        yield cur_value\n",
    "        cur_value += step\n",
    "\n",
    "def plot_results(docs, min_threshold=-1, max_threshold=1, step=0.1, trace=False):\n",
    "    x = []\n",
    "    y_p = []\n",
    "    y_n = []\n",
    "    docs_predictions = classifier.predict_all(docs)\n",
    "    for threshold in arange(min_threshold, max_threshold, step):\n",
    "        r = calculate_metrics(docs_predictions, threshold)\n",
    "        x.append(threshold)\n",
    "        y_p.append(r[0])\n",
    "        y_n.append(r[1])        \n",
    "        if trace: \n",
    "            print 'threshold %s' % threshold\n",
    "            print '\\tclass_prec %s, class_recall %s, class_F1 %s' % r[0]\n",
    "            print '\\tnot_class_prec %s, not_class_recall %s, not_class_F1 %s' % r[1]\n",
    "            print '\\t\\tMacroF1Mesure %s' % ((r[0][2] + r[1][2])/2)\n",
    "    plot_stats(x, y_p, \"Class Result\")\n",
    "    plot_stats(x, y_n, \"Not class Result\")    \n",
    "\n",
    "\n",
    "def plot_stats(x, y, title):\n",
    "    plt.figure(figsize=(10, 5))\n",
    "\n",
    "    prec, = plt.plot( x, \n",
    "                     [k[0] for k in y], \"r\", label='Precision', \n",
    "                     linewidth=1)\n",
    "    accur, = plt.plot( x, \n",
    "                      [k[1] for k in y], \"b\", label='Recall',\n",
    "                      linewidth=1)\n",
    "    f1, =    plt.plot( x, \n",
    "                      [k[2] for k in y], \"g\", label='F1',\n",
    "                      linewidth=1)\n",
    "    plt.grid(True)\n",
    "    plt.legend(handles=[prec, accur, f1])\n",
    "    plt.title(title)\n",
    "    plt.show()"
   ]
  },
  {
   "cell_type": "code",
   "execution_count": 10,
   "metadata": {
    "collapsed": true,
    "deletable": true,
    "editable": true
   },
   "outputs": [],
   "source": [
    "def calc_features(url, html_data):\n",
    "    words = list(html2word(html_data))\n",
    "    words_num = len(words)\n",
    "    avg_word_len = 0\n",
    "    for w in words:\n",
    "        avg_word_len += len(w)\n",
    "    avg_word_len /= len(words)\n",
    "    title_words_num = 0   \n",
    "    anchor_words_num = 0\n",
    "    compression_level = len(zlib.compress(html_data)) / len(html_data) \n",
    "\n",
    "    \n",
    "    return [len(words), avg_word_len, title_words_num, anchor_words_num, compression_level]"
   ]
  },
  {
   "cell_type": "code",
   "execution_count": 11,
   "metadata": {
    "collapsed": false,
    "deletable": true,
    "editable": true
   },
   "outputs": [
    {
     "name": "stdout",
     "output_type": "stream",
     "text": [
      "[6, 3.5, 0, 0, 0.9726027397260274]\n"
     ]
    }
   ],
   "source": [
    "test_html_data = u'''\n",
    "<html>\n",
    "<title> Заголовок Ololo </title>\n",
    "спам 1 2 3\n",
    "</html>\n",
    "'''\n",
    "test_url = 'http://ololo'\n",
    "test_words = list(html2word(test_html_data.encode(\"utf-8\")))\n",
    "test_features = calc_features(test_url, test_html_data.encode(\"utf-8\"))\n",
    "print test_features"
   ]
  },
  {
   "cell_type": "code",
   "execution_count": 12,
   "metadata": {
    "collapsed": false,
    "deletable": true,
    "editable": true
   },
   "outputs": [],
   "source": [
    "DocItem = namedtuple('DocItem', ['doc_id', 'is_spam', 'url', 'features', 'words'])\n",
    "\n",
    "def load_csv(input_file_name, calc_features_f):    \n",
    "    \"\"\"\n",
    "    Загружаем данные и извлекаем на лету признаки\n",
    "    Сам контент не сохраняется, чтобы уменьшить потребление памяти - чтобы\n",
    "    можно было запускать даже на ноутбуках в классе\n",
    "    \"\"\"\n",
    "    \n",
    "    with gzip.open(input_file_name) if input_file_name.endswith('gz') else open(input_file_name)  as input_file:            \n",
    "        headers = input_file.readline()\n",
    "        \n",
    "        for i, line in enumerate(input_file):\n",
    "            trace(i)\n",
    "            parts = line.strip().split('\\t')\n",
    "            url_id = int(parts[0])                                        \n",
    "            mark = bool(int(parts[1]))                    \n",
    "            url = parts[2]\n",
    "            pageInb64 = parts[3]\n",
    "            html_data = base64.b64decode(pageInb64)\n",
    "            features = calc_features_f(url, html_data)            \n",
    "            yield DocItem(url_id, mark, url, features, list(html2word(html_data)))            \n",
    "                \n",
    "        trace(i, 1)"
   ]
  },
  {
   "cell_type": "markdown",
   "metadata": {
    "deletable": true,
    "editable": true
   },
   "source": [
    "** Обрабатываем входной файл **\n",
    "<br>\n",
    "Формат - поля разделенные табуляциями\n",
    "<br>\n",
    "0 - идентификатор документа\n",
    "<br>\n",
    "1 - метка класса 0 - не спам, 1 - спам\n",
    "<br>\n",
    "2 - урл документа\n",
    "<br>\n",
    "3 - документ в кодировке base64\n",
    "\n",
    "Выходной формат - массив кортежей вида\n",
    "(doc_id, is_spam, url, html_data)"
   ]
  },
  {
   "cell_type": "code",
   "execution_count": 13,
   "metadata": {
    "collapsed": false,
    "deletable": true,
    "editable": true,
    "scrolled": true
   },
   "outputs": [
    {
     "name": "stderr",
     "output_type": "stream",
     "text": [
      "22:24:39 INFO:Complete items 00000\n",
      "22:25:24 INFO:Complete items 01000\n",
      "22:26:01 INFO:Complete items 02000\n",
      "22:26:42 INFO:Complete items 03000\n",
      "22:27:20 INFO:Complete items 04000\n",
      "22:28:02 INFO:Complete items 05000\n",
      "22:28:40 INFO:Complete items 06000\n",
      "22:29:21 INFO:Complete items 07000\n",
      "22:29:23 INFO:Complete items 07043\n"
     ]
    }
   ],
   "source": [
    "TRAIN_DATA_FILE  = 'kaggle/kaggle_train_data_tab.csv.gz'\n",
    "# TRAIN_DATA_FILE  = 'kaggle/kaggle_train_data_tab_300.csv.gz'\n",
    "\n",
    "train_docs = list(load_csv(TRAIN_DATA_FILE, calc_features))"
   ]
  },
  {
   "cell_type": "code",
   "execution_count": 14,
   "metadata": {
    "collapsed": false,
    "deletable": true,
    "editable": true
   },
   "outputs": [
    {
     "data": {
      "image/png": "[encoded data removed]",
      "text/plain": [
       "<matplotlib.figure.Figure at 0x7fa194d304d0>"
      ]
     },
     "metadata": {},
     "output_type": "display_data"
    }
   ],
   "source": [
    "is_spam_data = [doc.features[0] for doc in train_docs if doc[1] == True]\n",
    "not_spam_data = [doc.features[0] for doc in train_docs if doc[1] == False]\n",
    "bins = range(0,3000,10)\n",
    "plt.hist(is_spam_data, bins=bins, color='red', normed=True, alpha=0.7, label='spam')\n",
    "plt.hist(not_spam_data, bins=bins, color='blue', normed=True, alpha=0.7, label='not_spam')\n",
    "plt.title('NumWords')\n",
    "plt.legend()\n",
    "plt.show()"
   ]
  },
  {
   "cell_type": "code",
   "execution_count": 15,
   "metadata": {
    "collapsed": false,
    "deletable": true,
    "editable": true
   },
   "outputs": [
    {
     "data": {
      "image/png": "[encoded data removed]",
      "text/plain": [
       "<matplotlib.figure.Figure at 0x7fa139377210>"
      ]
     },
     "metadata": {},
     "output_type": "display_data"
    }
   ],
   "source": [
    "is_spam_data = [doc.features[1] for doc in train_docs if doc[1] == True]\n",
    "not_spam_data = [doc.features[1] for doc in train_docs if doc[1] == False]\n",
    "bins = 100\n",
    "plt.hist(is_spam_data, bins=bins, color='red', normed=True, alpha=0.7, label='spam')\n",
    "plt.hist(not_spam_data, bins=bins, color='blue', normed=True, alpha=0.7, label='not_spam')\n",
    "plt.title('AvgWordLen')\n",
    "plt.legend()\n",
    "plt.show()"
   ]
  },
  {
   "cell_type": "code",
   "execution_count": 16,
   "metadata": {
    "collapsed": false,
    "deletable": true,
    "editable": true
   },
   "outputs": [
    {
     "data": {
      "image/png": "[encoded data removed]",
      "text/plain": [
       "<matplotlib.figure.Figure at 0x7fa138510ad0>"
      ]
     },
     "metadata": {},
     "output_type": "display_data"
    }
   ],
   "source": [
    "is_spam_data = [doc.features[2] for doc in train_docs if doc[1] == True]\n",
    "not_spam_data = [doc.features[2] for doc in train_docs if doc[1] == False]\n",
    "bins = range(0, 30, 1)\n",
    "plt.hist(is_spam_data, bins=bins, color='red', normed=True, alpha=0.7, label='spam')\n",
    "plt.hist(not_spam_data, bins=bins, color='blue', normed=True, alpha=0.7, label='not_spam')\n",
    "plt.title('NumWordsTitle')\n",
    "plt.legend()\n",
    "plt.show()"
   ]
  },
  {
   "cell_type": "code",
   "execution_count": 17,
   "metadata": {
    "collapsed": false,
    "deletable": true,
    "editable": true
   },
   "outputs": [
    {
     "data": {
      "image/png": "[encoded data removed]",
      "text/plain": [
       "<matplotlib.figure.Figure at 0x7fa137f63390>"
      ]
     },
     "metadata": {},
     "output_type": "display_data"
    }
   ],
   "source": [
    "is_spam_data = [doc.features[3] for doc in train_docs if doc[1] == True]\n",
    "not_spam_data = [doc.features[3] for doc in train_docs if doc[1] == False]\n",
    "bins = list(arange(0, 10, 0.1))\n",
    "plt.hist(is_spam_data, bins=bins, color='red', normed=True, alpha=0.7, label='spam')\n",
    "plt.hist(not_spam_data, bins=bins, color='blue', normed=True, alpha=0.7, label='not_spam')\n",
    "plt.title('AnchorWordsNum')\n",
    "plt.legend()\n",
    "plt.show()"
   ]
  },
  {
   "cell_type": "code",
   "execution_count": 18,
   "metadata": {
    "collapsed": false,
    "deletable": true,
    "editable": true
   },
   "outputs": [
    {
     "data": {
      "image/png": "[encoded data removed]",
      "text/plain": [
       "<matplotlib.figure.Figure at 0x7fa137d3bc50>"
      ]
     },
     "metadata": {},
     "output_type": "display_data"
    }
   ],
   "source": [
    "is_spam_data = [doc.features[4] for doc in train_docs if doc[1] == True]\n",
    "not_spam_data = [doc.features[4] for doc in train_docs if doc[1] == False]\n",
    "bins = list(arange(0.0, 1.0, 0.01))\n",
    "plt.hist(is_spam_data, bins=bins, color='red', normed=True, alpha=0.7, label='spam')\n",
    "plt.hist(not_spam_data, bins=bins, color='blue', normed=True, alpha=0.7, label='not_spam')\n",
    "plt.title('CompressionLevel')\n",
    "plt.legend()\n",
    "plt.show()"
   ]
  },
  {
   "cell_type": "code",
   "execution_count": 19,
   "metadata": {
    "collapsed": true,
    "deletable": true,
    "editable": true
   },
   "outputs": [],
   "source": [
    "#Добавить графики для остальных фичей"
   ]
  },
  {
   "cell_type": "markdown",
   "metadata": {
    "deletable": true,
    "editable": true
   },
   "source": [
    "** Классификатор: **\n",
    "Нужно реализовать"
   ]
  },
  {
   "cell_type": "code",
   "execution_count": 20,
   "metadata": {
    "collapsed": false,
    "deletable": true,
    "editable": true
   },
   "outputs": [],
   "source": [
    "class Classifier:\n",
    "    \n",
    "    def __init__(self):\n",
    "        self.p_h = {}\n",
    "        self.p_s = {}\n",
    "        self.h = 0\n",
    "        self.header_weight = 1\n",
    "\n",
    "    def predict(self, doc):\n",
    "        import math\n",
    "        spam_n = 1\n",
    "        ham_n = 1\n",
    "        some_sum = 0\n",
    "\n",
    "        for word in doc.words:\n",
    "            if word not in self.p_s or word not in self.p_h:\n",
    "                continue\n",
    "            some_sum += math.log(self.p_s[word] / self.p_h[word])\n",
    "\n",
    "        return some_sum                 \n",
    "    \n",
    "    def predict_all(self, docs):\n",
    "        res = []\n",
    "        for doc_num, doc in enumerate(docs):\n",
    "            trace(doc_num)\n",
    "            prediction = self.predict(doc)            \n",
    "            res.append( (doc.doc_id, doc.is_spam, doc.url, prediction) )\n",
    "        return res\n",
    "    \n",
    "    def train(self, docs):     \n",
    "        ham_amount = 0\n",
    "        spam_amount = 0\n",
    "        in_ham = {}\n",
    "        in_spam = {}\n",
    "        \n",
    "        for doc_num, doc in enumerate(docs):\n",
    "            if doc.is_spam:\n",
    "                spam_amount += len(doc.words)\n",
    "                for word in doc.words:\n",
    "                    in_spam[word] = in_spam.get(word, 0) + 1\n",
    "            else:\n",
    "                ham_amount += len(doc.words)\n",
    "                for word in doc.words:\n",
    "                    in_ham[word] = in_ham.get(word, 0) + 1\n",
    "\n",
    "        for k, v in in_ham.items():\n",
    "            self.p_h[k] = v / ham_amount\n",
    "\n",
    "        for k, v in in_spam.items():\n",
    "            self.p_s[k] = v / spam_amount\n",
    "     \n",
    "            trace(doc_num)\n",
    "        trace(doc_num, 1)"
   ]
  },
  {
   "cell_type": "code",
   "execution_count": 21,
   "metadata": {
    "collapsed": false,
    "deletable": true,
    "editable": true,
    "scrolled": true
   },
   "outputs": [
    {
     "name": "stderr",
     "output_type": "stream",
     "text": [
      "22:29:35 INFO:Complete items 07043\n"
     ]
    }
   ],
   "source": [
    "classifier = Classifier()\n",
    "classifier.train(train_docs)"
   ]
  },
  {
   "cell_type": "code",
   "execution_count": 22,
   "metadata": {
    "collapsed": false,
    "deletable": true,
    "editable": true
   },
   "outputs": [
    {
     "data": {
      "text/plain": [
       "-3.2766645634443274"
      ]
     },
     "execution_count": 22,
     "metadata": {},
     "output_type": "execute_result"
    }
   ],
   "source": [
    "#Посмотреть, что предсказывается для тестового html\n",
    "classifier.predict(DocItem(0, 0, test_url , test_features, test_words))"
   ]
  },
  {
   "cell_type": "markdown",
   "metadata": {
    "deletable": true,
    "editable": true
   },
   "source": [
    "** Рисуем графики **"
   ]
  },
  {
   "cell_type": "code",
   "execution_count": 25,
   "metadata": {
    "collapsed": false,
    "deletable": true,
    "editable": true,
    "scrolled": true
   },
   "outputs": [
    {
     "name": "stderr",
     "output_type": "stream",
     "text": [
      "22:32:23 INFO:Complete items 00000\n",
      "22:32:25 INFO:Complete items 01000\n",
      "22:32:26 INFO:Complete items 02000\n",
      "22:32:28 INFO:Complete items 03000\n",
      "22:32:30 INFO:Complete items 04000\n",
      "22:32:31 INFO:Complete items 05000\n",
      "22:32:33 INFO:Complete items 06000\n",
      "22:32:35 INFO:Complete items 07000\n"
     ]
    },
    {
     "name": "stdout",
     "output_type": "stream",
     "text": [
      "threshold 0\n",
      "\tclass_prec 0.981621349446, class_recall 0.948892674617, class_F1 0.964979581735\n",
      "\tnot_class_prec 0.931640625, not_class_recall 0.975127768313, not_class_F1 0.952888296987\n",
      "\t\tMacroF1Mesure 0.958933939361\n",
      "threshold 1\n",
      "\tclass_prec 0.982349974786, class_recall 0.948162569968, class_F1 0.964953560372\n",
      "\tnot_class_prec 0.930799220273, not_class_recall 0.976149914821, not_class_F1 0.952935306835\n",
      "\t\tMacroF1Mesure 0.958944433603\n",
      "threshold 2\n",
      "\tclass_prec 0.982597730139, class_recall 0.948162569968, class_F1 0.965073074065\n",
      "\tnot_class_prec 0.930821695356, not_class_recall 0.976490630324, not_class_F1 0.953109411373\n",
      "\t\tMacroF1Mesure 0.959091242719\n",
      "threshold 3\n",
      "\tclass_prec 0.982836951035, class_recall 0.947675833536, class_F1 0.964936191302\n",
      "\tnot_class_prec 0.930240103829, not_class_recall 0.976831345826, not_class_F1 0.952966594648\n",
      "\t\tMacroF1Mesure 0.958951392975\n",
      "threshold 4\n",
      "\tclass_prec 0.982823945441, class_recall 0.946945728888, class_F1 0.964551313832\n",
      "\tnot_class_prec 0.929335494327, not_class_recall 0.976831345826, not_class_F1 0.952491694352\n",
      "\t\tMacroF1Mesure 0.958521504092\n",
      "threshold 5\n",
      "\tclass_prec 0.982819605862, class_recall 0.946702360672, class_F1 0.964422957729\n",
      "\tnot_class_prec 0.929034348671, not_class_recall 0.976831345826, not_class_F1 0.952333499419\n",
      "\t\tMacroF1Mesure 0.958378228574\n",
      "threshold 6\n",
      "\tclass_prec 0.983312262958, class_recall 0.946458992456, class_F1 0.964533730159\n",
      "\tnot_class_prec 0.928779540304, not_class_recall 0.977512776831, not_class_F1 0.952523240372\n",
      "\t\tMacroF1Mesure 0.958528485265\n",
      "threshold 7\n",
      "\tclass_prec 0.984307770185, class_recall 0.946458992456, class_F1 0.965012406948\n",
      "\tnot_class_prec 0.928871645651, not_class_recall 0.978875638842, not_class_F1 0.953218314532\n",
      "\t\tMacroF1Mesure 0.95911536074\n",
      "threshold 8\n",
      "\tclass_prec 0.984794728839, class_recall 0.945728887807, class_F1 0.96486654252\n",
      "\tnot_class_prec 0.928018076178, not_class_recall 0.979557069847, not_class_F1 0.953091331013\n",
      "\t\tMacroF1Mesure 0.958978936766\n",
      "threshold 9\n",
      "\tclass_prec 0.984794728839, class_recall 0.945728887807, class_F1 0.96486654252\n",
      "\tnot_class_prec 0.928018076178, not_class_recall 0.979557069847, not_class_F1 0.953091331013\n",
      "\t\tMacroF1Mesure 0.958978936766\n",
      "threshold 10\n",
      "\tclass_prec 0.98503677403, class_recall 0.945242151375, class_F1 0.964729259811\n",
      "\tnot_class_prec 0.9274427604, not_class_recall 0.979897785349, not_class_F1 0.95294897283\n",
      "\t\tMacroF1Mesure 0.95883911632\n",
      "threshold 11\n",
      "\tclass_prec 0.985525647537, class_recall 0.944512046727, class_F1 0.964583074438\n",
      "\tnot_class_prec 0.926593689633, not_class_recall 0.980579216354, not_class_F1 0.952822380401\n",
      "\t\tMacroF1Mesure 0.958702727419\n",
      "threshold 12\n",
      "\tclass_prec 0.985772357724, class_recall 0.944268678511, class_F1 0.964574269733\n",
      "\tnot_class_prec 0.926319176319, not_class_recall 0.980919931857, not_class_F1 0.952837994374\n",
      "\t\tMacroF1Mesure 0.958706132053\n",
      "threshold 13\n",
      "\tclass_prec 0.985768742058, class_recall 0.944025310294, class_F1 0.964445549478\n",
      "\tnot_class_prec 0.926021228691, not_class_recall 0.980919931857, not_class_F1 0.952680344143\n",
      "\t\tMacroF1Mesure 0.95856294681\n",
      "threshold 14\n",
      "\tclass_prec 0.986015764048, class_recall 0.943781942078, class_F1 0.964436707287\n",
      "\tnot_class_prec 0.92574734812, not_class_recall 0.981260647359, not_class_F1 0.952695997354\n",
      "\t\tMacroF1Mesure 0.95856635232\n",
      "threshold 15\n",
      "\tclass_prec 0.986015764048, class_recall 0.943781942078, class_F1 0.964436707287\n",
      "\tnot_class_prec 0.92574734812, not_class_recall 0.981260647359, not_class_F1 0.952695997354\n",
      "\t\tMacroF1Mesure 0.95856635232\n",
      "threshold 16\n",
      "\tclass_prec 0.986015764048, class_recall 0.943781942078, class_F1 0.964436707287\n",
      "\tnot_class_prec 0.92574734812, not_class_recall 0.981260647359, not_class_F1 0.952695997354\n",
      "\t\tMacroF1Mesure 0.95856635232\n",
      "threshold 17\n",
      "\tclass_prec 0.986015764048, class_recall 0.943781942078, class_F1 0.964436707287\n",
      "\tnot_class_prec 0.92574734812, not_class_recall 0.981260647359, not_class_F1 0.952695997354\n",
      "\t\tMacroF1Mesure 0.95856635232\n",
      "threshold 18\n",
      "\tclass_prec 0.986001527106, class_recall 0.942808469214, class_F1 0.963921373476\n",
      "\tnot_class_prec 0.92455858748, not_class_recall 0.981260647359, not_class_F1 0.952066115702\n",
      "\t\tMacroF1Mesure 0.957993744589\n",
      "threshold 19\n",
      "\tclass_prec 0.985994397759, class_recall 0.942321732782, class_F1 0.963663514186\n",
      "\tnot_class_prec 0.923965351299, not_class_recall 0.981260647359, not_class_F1 0.951751487112\n",
      "\t\tMacroF1Mesure 0.957707500649\n",
      "threshold 20\n",
      "\tclass_prec 0.985987261146, class_recall 0.941834996349, class_F1 0.963405526512\n",
      "\tnot_class_prec 0.923372875922, not_class_recall 0.981260647359, not_class_F1 0.951437066402\n",
      "\t\tMacroF1Mesure 0.957421296457\n",
      "threshold 21\n",
      "\tclass_prec 0.985980117257, class_recall 0.941348259917, class_F1 0.963147410359\n",
      "\tnot_class_prec 0.922781159885, not_class_recall 0.981260647359, not_class_F1 0.951122853369\n",
      "\t\tMacroF1Mesure 0.957135131864\n",
      "threshold 22\n",
      "\tclass_prec 0.98597654258, class_recall 0.941104891701, class_F1 0.963018304072\n",
      "\tnot_class_prec 0.922485586163, not_class_recall 0.981260647359, not_class_F1 0.950965824666\n",
      "\t\tMacroF1Mesure 0.956992064369\n",
      "threshold 23\n",
      "\tclass_prec 0.98597654258, class_recall 0.941104891701, class_F1 0.963018304072\n",
      "\tnot_class_prec 0.922485586163, not_class_recall 0.981260647359, not_class_F1 0.950965824666\n",
      "\t\tMacroF1Mesure 0.956992064369\n",
      "threshold 24\n",
      "\tclass_prec 0.98597296608, class_recall 0.940861523485, class_F1 0.962889165629\n",
      "\tnot_class_prec 0.922190201729, not_class_recall 0.981260647359, not_class_F1 0.950808847805\n",
      "\t\tMacroF1Mesure 0.956849006717\n",
      "threshold 25\n",
      "\tclass_prec 0.986217457887, class_recall 0.940374787053, class_F1 0.962750716332\n",
      "\tnot_class_prec 0.921625079974, not_class_recall 0.981601362862, not_class_F1 0.950668206567\n",
      "\t\tMacroF1Mesure 0.956709461449\n",
      "threshold 26\n",
      "\tclass_prec 0.986206896552, class_recall 0.939644682404, class_F1 0.962362911266\n",
      "\tnot_class_prec 0.920741450943, not_class_recall 0.981601362862, not_class_F1 0.950197889182\n",
      "\t\tMacroF1Mesure 0.956280400224\n",
      "threshold 27\n",
      "\tclass_prec 0.986206896552, class_recall 0.939644682404, class_F1 0.962362911266\n",
      "\tnot_class_prec 0.920741450943, not_class_recall 0.981601362862, not_class_F1 0.950197889182\n",
      "\t\tMacroF1Mesure 0.956280400224\n",
      "threshold 28\n",
      "\tclass_prec 0.98644847865, class_recall 0.938914577756, class_F1 0.962094763092\n",
      "\tnot_class_prec 0.919885094159, not_class_recall 0.981942078365, not_class_F1 0.949901120633\n",
      "\t\tMacroF1Mesure 0.955997941863\n",
      "threshold 29\n",
      "\tclass_prec 0.986438075742, class_recall 0.938184473108, class_F1 0.961706373955\n",
      "\tnot_class_prec 0.919005102041, not_class_recall 0.981942078365, not_class_F1 0.949431724592\n",
      "\t\tMacroF1Mesure 0.955569049274\n",
      "threshold 30\n",
      "\tclass_prec 0.98642765685, class_recall 0.937454368459, class_F1 0.961317694035\n",
      "\tnot_class_prec 0.918126791972, not_class_recall 0.981942078365, not_class_F1 0.948962792229\n",
      "\t\tMacroF1Mesure 0.955140243132\n",
      "threshold 31\n",
      "\tclass_prec 0.986424180328, class_recall 0.937211000243, class_F1 0.961188069387\n",
      "\tnot_class_prec 0.917834394904, not_class_recall 0.981942078365, not_class_F1 0.948806584362\n",
      "\t\tMacroF1Mesure 0.954997326875\n",
      "threshold 32\n",
      "\tclass_prec 0.986673500769, class_recall 0.936967632027, class_F1 0.961178379728\n",
      "\tnot_class_prec 0.917568427753, not_class_recall 0.982282793867, not_class_F1 0.948823432615\n",
      "\t\tMacroF1Mesure 0.955000906171\n",
      "threshold 33\n",
      "\tclass_prec 0.986916367368, class_recall 0.936237527379, class_F1 0.960909204446\n",
      "\tnot_class_prec 0.916719643992, not_class_recall 0.98262350937, not_class_F1 0.948528202598\n",
      "\t\tMacroF1Mesure 0.954718703522\n",
      "threshold 34\n",
      "\tclass_prec 0.987166324435, class_recall 0.935994159163, class_F1 0.960899437851\n",
      "\tnot_class_prec 0.916454891995, not_class_recall 0.982964224872, not_class_F1 0.94854512576\n",
      "\t\tMacroF1Mesure 0.954722281806\n",
      "threshold 35\n",
      "\tclass_prec 0.987166324435, class_recall 0.935994159163, class_F1 0.960899437851\n",
      "\tnot_class_prec 0.916454891995, not_class_recall 0.982964224872, not_class_F1 0.94854512576\n",
      "\t\tMacroF1Mesure 0.954722281806\n",
      "threshold 36\n",
      "\tclass_prec 0.987159732922, class_recall 0.935507422731, class_F1 0.96063976009\n",
      "\tnot_class_prec 0.915873015873, not_class_recall 0.982964224872, not_class_F1 0.948233360723\n",
      "\t\tMacroF1Mesure 0.954436560407\n",
      "threshold 37\n",
      "\tclass_prec 0.987156434626, class_recall 0.935264054514, class_F1 0.960509872532\n",
      "\tnot_class_prec 0.915582354808, not_class_recall 0.982964224872, not_class_F1 0.948077555044\n",
      "\t\tMacroF1Mesure 0.954293713788\n",
      "threshold 38\n",
      "\tclass_prec 0.987143224479, class_recall 0.93429058165, class_F1 0.959989997499\n",
      "\tnot_class_prec 0.91442155309, not_class_recall 0.982964224872, not_class_F1 0.947454844007\n",
      "\t\tMacroF1Mesure 0.953722420753\n",
      "threshold 39\n",
      "\tclass_prec 0.987139917695, class_recall 0.934047213434, class_F1 0.95985994748\n",
      "\tnot_class_prec 0.914131812421, not_class_recall 0.982964224872, not_class_F1 0.94729929404\n",
      "\t\tMacroF1Mesure 0.95357962076\n",
      "threshold 40\n",
      "\tclass_prec 0.987384140062, class_recall 0.933317108786, class_F1 0.959589640936\n",
      "\tnot_class_prec 0.913291139241, not_class_recall 0.983304940375, not_class_F1 0.947005742412\n",
      "\t\tMacroF1Mesure 0.953297691674\n",
      "threshold 41\n",
      "\tclass_prec 0.987635239567, class_recall 0.933073740569, class_F1 0.959579526968\n",
      "\tnot_class_prec 0.91302972802, not_class_recall 0.983645655877, not_class_F1 0.947023126128\n",
      "\t\tMacroF1Mesure 0.953301326548\n",
      "threshold 42\n",
      "\tclass_prec 0.987883475122, class_recall 0.932587004137, class_F1 0.959439158738\n",
      "\tnot_class_prec 0.912480252765, not_class_recall 0.98398637138, not_class_F1 0.946885245902\n",
      "\t\tMacroF1Mesure 0.95316220232\n",
      "threshold 43\n",
      "\tclass_prec 0.987864704364, class_recall 0.931126794841, class_F1 0.958656978201\n",
      "\tnot_class_prec 0.910753705456, not_class_recall 0.98398637138, not_class_F1 0.945954798559\n",
      "\t\tMacroF1Mesure 0.95230588838\n",
      "threshold 44\n",
      "\tclass_prec 0.987858434513, class_recall 0.930640058408, class_F1 0.958395989975\n",
      "\tnot_class_prec 0.910179640719, not_class_recall 0.98398637138, not_class_F1 0.945645055665\n",
      "\t\tMacroF1Mesure 0.95202052282\n",
      "threshold 45\n",
      "\tclass_prec 0.98784901758, class_recall 0.92990995376, class_F1 0.958004262254\n",
      "\tnot_class_prec 0.909319899244, not_class_recall 0.98398637138, not_class_F1 0.945180821469\n",
      "\t\tMacroF1Mesure 0.951592541862\n",
      "threshold 46\n",
      "\tclass_prec 0.98784901758, class_recall 0.92990995376, class_F1 0.958004262254\n",
      "\tnot_class_prec 0.909319899244, not_class_recall 0.98398637138, not_class_F1 0.945180821469\n",
      "\t\tMacroF1Mesure 0.951592541862\n",
      "threshold 47\n",
      "\tclass_prec 0.987842731505, class_recall 0.929423217328, class_F1 0.957742946708\n",
      "\tnot_class_prec 0.908747640025, not_class_recall 0.98398637138, not_class_F1 0.944871585146\n",
      "\t\tMacroF1Mesure 0.951307265927\n",
      "threshold 48\n",
      "\tclass_prec 0.987836438923, class_recall 0.928936480896, class_F1 0.957481500063\n",
      "\tnot_class_prec 0.908176100629, not_class_recall 0.98398637138, not_class_F1 0.944562551104\n",
      "\t\tMacroF1Mesure 0.951022025583\n",
      "threshold 49\n",
      "\tclass_prec 0.987823834197, class_recall 0.927963008031, class_F1 0.956958213076\n",
      "\tnot_class_prec 0.907035175879, not_class_recall 0.98398637138, not_class_F1 0.943945089067\n",
      "\t\tMacroF1Mesure 0.950451651071\n",
      "threshold 50\n",
      "\tclass_prec 0.988332901219, class_recall 0.927719639815, class_F1 0.957067537032\n",
      "\tnot_class_prec 0.906808911202, not_class_recall 0.984667802385, not_class_F1 0.9441359033\n",
      "\t\tMacroF1Mesure 0.950601720166\n",
      "threshold 51\n",
      "\tclass_prec 0.988329875519, class_recall 0.927476271599, class_F1 0.956936597615\n",
      "\tnot_class_prec 0.90652446675, not_class_recall 0.984667802385, not_class_F1 0.943981708313\n",
      "\t\tMacroF1Mesure 0.950459152964\n",
      "threshold 52\n",
      "\tclass_prec 0.988317757009, class_recall 0.926502798734, class_F1 0.956412510991\n",
      "\tnot_class_prec 0.905388471178, not_class_recall 0.984667802385, not_class_F1 0.943365431696\n",
      "\t\tMacroF1Mesure 0.949888971343\n",
      "threshold 53\n",
      "\tclass_prec 0.988314723448, class_recall 0.926259430518, class_F1 0.956281407035\n",
      "\tnot_class_prec 0.905104917006, not_class_recall 0.984667802385, not_class_F1 0.943211488251\n",
      "\t\tMacroF1Mesure 0.949746447643\n",
      "threshold 54\n",
      "\tclass_prec 0.988302573434, class_recall 0.925285957654, class_F1 0.955756661639\n",
      "\tnot_class_prec 0.903972474195, not_class_recall 0.984667802385, not_class_F1 0.942596216569\n",
      "\t\tMacroF1Mesure 0.949176439104\n",
      "threshold 55\n",
      "\tclass_prec 0.988302573434, class_recall 0.925285957654, class_F1 0.955756661639\n",
      "\tnot_class_prec 0.903972474195, not_class_recall 0.984667802385, not_class_F1 0.942596216569\n",
      "\t\tMacroF1Mesure 0.949176439104\n",
      "threshold 56\n",
      "\tclass_prec 0.98855656697, class_recall 0.925042589438, class_F1 0.955745536837\n",
      "\tnot_class_prec 0.903719912473, not_class_recall 0.985008517888, not_class_F1 0.942614933159\n",
      "\t\tMacroF1Mesure 0.949180234998\n",
      "threshold 57\n",
      "\tclass_prec 0.98855656697, class_recall 0.925042589438, class_F1 0.955745536837\n",
      "\tnot_class_prec 0.903719912473, not_class_recall 0.985008517888, not_class_F1 0.942614933159\n",
      "\t\tMacroF1Mesure 0.949180234998\n",
      "threshold 58\n",
      "\tclass_prec 0.988807912546, class_recall 0.924555853006, class_F1 0.955603068796\n",
      "\tnot_class_prec 0.903185509057, not_class_recall 0.98534923339, not_class_F1 0.942480039107\n",
      "\t\tMacroF1Mesure 0.949041553952\n",
      "threshold 59\n",
      "\tclass_prec 0.98879916645, class_recall 0.923825748357, class_F1 0.955208857574\n",
      "\tnot_class_prec 0.902340093604, not_class_recall 0.98534923339, not_class_F1 0.942019543974\n",
      "\t\tMacroF1Mesure 0.948614200774\n",
      "threshold 60\n",
      "\tclass_prec 0.988790406674, class_recall 0.923095643709, class_F1 0.954814348647\n",
      "\tnot_class_prec 0.901496259352, not_class_recall 0.98534923339, not_class_F1 0.941559498616\n",
      "\t\tMacroF1Mesure 0.948186923632\n",
      "threshold 61\n",
      "\tclass_prec 0.988778705637, class_recall 0.922122170844, class_F1 0.954287873064\n",
      "\tnot_class_prec 0.900373599004, not_class_recall 0.98534923339, not_class_F1 0.940946803319\n",
      "\t\tMacroF1Mesure 0.947617338191\n",
      "threshold 62\n",
      "\tclass_prec 0.988772845953, class_recall 0.921635434412, class_F1 0.954024436327\n",
      "\tnot_class_prec 0.899813316739, not_class_recall 0.98534923339, not_class_F1 0.940640754594\n",
      "\t\tMacroF1Mesure 0.947332595461\n",
      "threshold 63\n",
      "\tclass_prec 0.988761108207, class_recall 0.920661961548, class_F1 0.953497164461\n",
      "\tnot_class_prec 0.898694841516, not_class_recall 0.98534923339, not_class_F1 0.940029254022\n",
      "\t\tMacroF1Mesure 0.946763209242\n",
      "threshold 64\n",
      "\tclass_prec 0.988758169935, class_recall 0.920418593332, class_F1 0.953365263423\n",
      "\tnot_class_prec 0.898415657036, not_class_recall 0.98534923339, not_class_F1 0.939876503087\n",
      "\t\tMacroF1Mesure 0.946620883255\n",
      "threshold 65\n",
      "\tclass_prec 0.988746401466, class_recall 0.919445120467, class_F1 0.952837326608\n",
      "\tnot_class_prec 0.897300651567, not_class_recall 0.98534923339, not_class_F1 0.939265995453\n",
      "\t\tMacroF1Mesure 0.94605166103\n",
      "threshold 66\n",
      "\tclass_prec 0.988743455497, class_recall 0.919201752251, class_F1 0.952705259175\n",
      "\tnot_class_prec 0.897022332506, not_class_recall 0.98534923339, not_class_F1 0.93911349245\n",
      "\t\tMacroF1Mesure 0.945909375813\n",
      "threshold 67\n",
      "\tclass_prec 0.988734608331, class_recall 0.918471647603, class_F1 0.952308856927\n",
      "\tnot_class_prec 0.896188410288, not_class_recall 0.98534923339, not_class_F1 0.938656280428\n",
      "\t\tMacroF1Mesure 0.945482568678\n",
      "threshold 68\n",
      "\tclass_prec 0.988725747247, class_recall 0.917741542954, class_F1 0.951912154487\n",
      "\tnot_class_prec 0.895356037152, not_class_recall 0.98534923339, not_class_F1 0.938199513382\n",
      "\t\tMacroF1Mesure 0.945055833934\n",
      "threshold 69\n",
      "\tclass_prec 0.988716872212, class_recall 0.917011438306, class_F1 0.951515151515\n",
      "\tnot_class_prec 0.894525208784, not_class_recall 0.98534923339, not_class_F1 0.937743190661\n",
      "\t\tMacroF1Mesure 0.944629171088\n",
      "threshold 70\n",
      "\tclass_prec 0.988707983193, class_recall 0.916281333658, class_F1 0.95111784767\n",
      "\tnot_class_prec 0.89369592089, not_class_recall 0.98534923339, not_class_F1 0.937287311619\n",
      "\t\tMacroF1Mesure 0.944202579644\n",
      "threshold 71\n",
      "\tclass_prec 0.988696109359, class_recall 0.915307860793, class_F1 0.950587640591\n",
      "\tnot_class_prec 0.892592592593, not_class_recall 0.98534923339, not_class_F1 0.936680161943\n",
      "\t\tMacroF1Mesure 0.943633901267\n",
      "threshold 72\n",
      "\tclass_prec 0.988693136997, class_recall 0.915064492577, class_F1 0.950455005056\n",
      "\tnot_class_prec 0.892317186054, not_class_recall 0.98534923339, not_class_F1 0.936528497409\n",
      "\t\tMacroF1Mesure 0.943491751232\n",
      "threshold 73\n",
      "\tclass_prec 0.988944459068, class_recall 0.914334387929, class_F1 0.950177035913\n",
      "\tnot_class_prec 0.891525423729, not_class_recall 0.985689948893, not_class_F1 0.936245954693\n",
      "\t\tMacroF1Mesure 0.943211495303\n",
      "threshold 74\n",
      "\tclass_prec 0.988935721812, class_recall 0.913604283281, class_F1 0.949778621126\n",
      "\tnot_class_prec 0.890701970443, not_class_recall 0.985689948893, not_class_F1 0.935791686883\n",
      "\t\tMacroF1Mesure 0.942785154005\n",
      "threshold 75\n",
      "\tclass_prec 0.988929889299, class_recall 0.913117546848, class_F1 0.949512843224\n",
      "\tnot_class_prec 0.890153846154, not_class_recall 0.985689948893, not_class_F1 0.9354890865\n",
      "\t\tMacroF1Mesure 0.942500964862\n",
      "threshold 76\n",
      "\tclass_prec 0.988924050633, class_recall 0.912630810416, class_F1 0.949246930768\n",
      "\tnot_class_prec 0.889606396064, not_class_recall 0.985689948893, not_class_F1 0.935186681752\n",
      "\t\tMacroF1Mesure 0.94221680626\n",
      "threshold 77\n",
      "\tclass_prec 0.989182058047, class_recall 0.9123874422, class_F1 0.949234080263\n",
      "\tnot_class_prec 0.889366933006, not_class_recall 0.986030664395, not_class_F1 0.935207626434\n",
      "\t\tMacroF1Mesure 0.942220853349\n",
      "threshold 78\n",
      "\tclass_prec 0.989176346357, class_recall 0.911900705768, class_F1 0.948967962517\n",
      "\tnot_class_prec 0.888820638821, not_class_recall 0.986030664395, not_class_F1 0.934905507995\n",
      "\t\tMacroF1Mesure 0.941936735256\n",
      "threshold 79\n",
      "\tclass_prec 0.989167767503, class_recall 0.911170601119, class_F1 0.948568533063\n",
      "\tnot_class_prec 0.888002454741, not_class_recall 0.986030664395, not_class_F1 0.934452696158\n",
      "\t\tMacroF1Mesure 0.94151061461\n",
      "threshold 80\n",
      "\tclass_prec 0.989162040708, class_recall 0.910683864687, class_F1 0.948302078054\n",
      "\tnot_class_prec 0.88745783502, not_class_recall 0.986030664395, not_class_F1 0.934151065203\n",
      "\t\tMacroF1Mesure 0.941226571629\n",
      "threshold 81\n",
      "\tclass_prec 0.989423585405, class_recall 0.910683864687, class_F1 0.9484222532\n",
      "\tnot_class_prec 0.88749233599, not_class_recall 0.986371379898, not_class_F1 0.934323059545\n",
      "\t\tMacroF1Mesure 0.941372656372\n",
      "threshold 82\n",
      "\tclass_prec 0.989671610169, class_recall 0.909467023607, class_F1 0.94787571338\n",
      "\tnot_class_prec 0.886168910649, not_class_recall 0.9867120954, not_class_F1 0.933741737869\n",
      "\t\tMacroF1Mesure 0.940808725624\n",
      "threshold 83\n",
      "\tclass_prec 0.989660657476, class_recall 0.908493550742, class_F1 0.947341707905\n",
      "\tnot_class_prec 0.885085574572, not_class_recall 0.9867120954, not_class_F1 0.933140003222\n",
      "\t\tMacroF1Mesure 0.940240855564\n",
      "threshold 84\n",
      "\tclass_prec 0.989657915672, class_recall 0.908250182526, class_F1 0.947208121827\n",
      "\tnot_class_prec 0.884815154293, not_class_recall 0.9867120954, not_class_F1 0.932989690722\n",
      "\t\tMacroF1Mesure 0.940098906275\n",
      "threshold 85\n",
      "\tclass_prec 0.989655172414, class_recall 0.90800681431, class_F1 0.94707450184\n",
      "\tnot_class_prec 0.884544899206, not_class_recall 0.9867120954, not_class_F1 0.932839426639\n",
      "\t\tMacroF1Mesure 0.93995696424\n",
      "threshold 86\n",
      "\tclass_prec 0.9896469339, class_recall 0.907276709662, class_F1 0.946673438294\n",
      "\tnot_class_prec 0.883735123589, not_class_recall 0.9867120954, not_class_F1 0.932388924662\n",
      "\t\tMacroF1Mesure 0.939531181478\n",
      "threshold 87\n",
      "\tclass_prec 0.989644184811, class_recall 0.907033341446, class_F1 0.94653968254\n",
      "\tnot_class_prec 0.883465527761, not_class_recall 0.9867120954, not_class_F1 0.932238854016\n",
      "\t\tMacroF1Mesure 0.939389268278\n",
      "threshold 88\n",
      "\tclass_prec 0.989633173844, class_recall 0.906059868581, class_F1 0.946004319654\n",
      "\tnot_class_prec 0.882388787325, not_class_recall 0.9867120954, not_class_F1 0.931639054206\n",
      "\t\tMacroF1Mesure 0.93882168693\n",
      "threshold 89\n",
      "\tclass_prec 0.990146471372, class_recall 0.904843027501, class_F1 0.945574771109\n",
      "\tnot_class_prec 0.881118881119, not_class_recall 0.987393526405, not_class_F1 0.931233933162\n",
      "\t\tMacroF1Mesure 0.938404352135\n",
      "threshold 90\n",
      "\tclass_prec 0.9904, class_recall 0.903869554636, class_F1 0.945158417101\n",
      "\tnot_class_prec 0.880085003036, not_class_recall 0.987734241908, not_class_F1 0.930807513245\n",
      "\t\tMacroF1Mesure 0.937982965173\n",
      "threshold 91\n",
      "\tclass_prec 0.990394877268, class_recall 0.903382818204, class_F1 0.944889907089\n",
      "\tnot_class_prec 0.879550970874, not_class_recall 0.987734241908, not_class_F1 0.93050874659\n",
      "\t\tMacroF1Mesure 0.937699326839\n",
      "threshold 92\n",
      "\tclass_prec 0.990387182911, class_recall 0.902652713556, class_F1 0.944486885663\n",
      "\tnot_class_prec 0.878751136708, not_class_recall 0.987734241908, not_class_F1 0.930060956047\n",
      "\t\tMacroF1Mesure 0.937273920855\n",
      "threshold 93\n",
      "\tclass_prec 0.990644212777, class_recall 0.901922608907, class_F1 0.944203821656\n",
      "\tnot_class_prec 0.877989706328, not_class_recall 0.988074957411, not_class_F1 0.92978518756\n",
      "\t\tMacroF1Mesure 0.936994504608\n",
      "threshold 94\n",
      "\tclass_prec 0.990634198555, class_recall 0.900949136043, class_F1 0.94366556207\n",
      "\tnot_class_prec 0.87692772906, not_class_recall 0.988074957411, not_class_F1 0.929189362384\n",
      "\t\tMacroF1Mesure 0.936427462227\n",
      "threshold 95\n",
      "\tclass_prec 0.99088960343, class_recall 0.899975663178, class_F1 0.943247034817\n",
      "\tnot_class_prec 0.875905797101, not_class_recall 0.988415672913, not_class_F1 0.928765807588\n",
      "\t\tMacroF1Mesure 0.936006421202\n",
      "threshold 96\n",
      "\tclass_prec 0.990870032223, class_recall 0.89802871745, class_F1 0.942167751819\n",
      "\tnot_class_prec 0.873795180723, not_class_recall 0.988415672913, not_class_F1 0.92757793765\n",
      "\t\tMacroF1Mesure 0.934872844735\n",
      "threshold 97\n",
      "\tclass_prec 0.99085283831, class_recall 0.896325139937, class_F1 0.941221569129\n",
      "\tnot_class_prec 0.871956717764, not_class_recall 0.988415672913, not_class_F1 0.926541041201\n",
      "\t\tMacroF1Mesure 0.933881305165\n",
      "threshold 98\n",
      "\tclass_prec 0.990850376749, class_recall 0.896081771721, class_F1 0.941086261981\n",
      "\tnot_class_prec 0.871694711538, not_class_recall 0.988415672913, not_class_F1 0.926393102347\n",
      "\t\tMacroF1Mesure 0.933739682164\n",
      "threshold 99\n",
      "\tclass_prec 0.990840517241, class_recall 0.895108298856, class_F1 0.94054468738\n",
      "\tnot_class_prec 0.870648259304, not_class_recall 0.988415672913, not_class_F1 0.925801819052\n",
      "\t\tMacroF1Mesure 0.933173253216\n",
      "threshold 100\n",
      "\tclass_prec 0.991100323625, class_recall 0.894378194208, class_F1 0.940258411155\n",
      "\tnot_class_prec 0.869904076739, not_class_recall 0.988756388416, not_class_F1 0.925530218466\n",
      "\t\tMacroF1Mesure 0.932894314811\n"
     ]
    },
    {
     "data": {
      "image/png": "[encoded data removed]",
      "text/plain": [
       "<matplotlib.figure.Figure at 0x7fa13806fc90>"
      ]
     },
     "metadata": {},
     "output_type": "display_data"
    },
    {
     "data": {
      "image/png": "[encoded data removed]",
      "text/plain": [
       "<matplotlib.figure.Figure at 0x7fa1390cd550>"
      ]
     },
     "metadata": {},
     "output_type": "display_data"
    }
   ],
   "source": [
    "plot_results(train_docs, min_threshold=0, max_threshold=100, step=1, trace=1)"
   ]
  },
  {
   "cell_type": "code",
   "execution_count": 27,
   "metadata": {
    "collapsed": false,
    "deletable": true,
    "editable": true
   },
   "outputs": [
    {
     "name": "stderr",
     "output_type": "stream",
     "text": [
      "22:34:15 INFO:Complete items 00000\n",
      "22:34:15 INFO:Complete items 00000\n",
      "22:35:16 INFO:Complete items 01000\n",
      "22:35:16 INFO:Complete items 01000\n",
      "22:36:11 INFO:Complete items 02000\n",
      "22:36:11 INFO:Complete items 02000\n",
      "22:37:03 INFO:Complete items 03000\n",
      "22:37:03 INFO:Complete items 03000\n",
      "22:37:50 INFO:Complete items 04000\n",
      "22:37:50 INFO:Complete items 04000\n",
      "22:38:33 INFO:Complete items 05000\n",
      "22:38:33 INFO:Complete items 05000\n",
      "22:39:27 INFO:Complete items 06000\n",
      "22:39:27 INFO:Complete items 06000\n",
      "22:40:13 INFO:Complete items 07000\n",
      "22:40:13 INFO:Complete items 07000\n",
      "22:41:02 INFO:Complete items 08000\n",
      "22:41:02 INFO:Complete items 08000\n",
      "22:41:50 INFO:Complete items 09000\n",
      "22:41:50 INFO:Complete items 09000\n",
      "22:42:53 INFO:Complete items 10000\n",
      "22:42:53 INFO:Complete items 10000\n",
      "22:43:38 INFO:Complete items 11000\n",
      "22:43:38 INFO:Complete items 11000\n",
      "22:44:25 INFO:Complete items 12000\n",
      "22:44:25 INFO:Complete items 12000\n",
      "22:45:08 INFO:Complete items 13000\n",
      "22:45:08 INFO:Complete items 13000\n",
      "22:45:57 INFO:Complete items 14000\n",
      "22:45:57 INFO:Complete items 14000\n",
      "22:46:46 INFO:Complete items 15000\n",
      "22:46:46 INFO:Complete items 15000\n",
      "22:47:38 INFO:Complete items 16000\n",
      "22:47:38 INFO:Complete items 16000\n",
      "22:47:40 INFO:Complete items 16038\n"
     ]
    }
   ],
   "source": [
    "TEST_DATA_FILE  = 'kaggle/kaggle_test_data_tab.csv.gz'\n",
    "# TEST_DATA_FILE  = 'kaggle/kaggle_train_data_tab_300.csv.gz'\n",
    "\n",
    "test_docs = load_csv(TEST_DATA_FILE, calc_features)\n",
    "\n",
    "threshold = 18\n",
    "\n",
    "with open('my_submission.csv' , 'wb') as fout:\n",
    "    writer = csv.writer(fout)\n",
    "    writer.writerow(['Id','Prediction'])\n",
    "    for item in classifier.predict_all(test_docs):\n",
    "        prediction =  1 if item[3] > threshold else 0\n",
    "        writer.writerow([item[0], prediction])"
   ]
  }
 ],
 "metadata": {
  "anaconda-cloud": {},
  "kernelspec": {
   "display_name": "Python 2",
   "language": "python",
   "name": "python2"
  },
  "language_info": {
   "codemirror_mode": {
    "name": "ipython",
    "version": 2
   },
   "file_extension": ".py",
   "mimetype": "text/x-python",
   "name": "python",
   "nbconvert_exporter": "python",
   "pygments_lexer": "ipython2",
   "version": "2.7.13"
  }
 },
 "nbformat": 4,
 "nbformat_minor": 0
}
